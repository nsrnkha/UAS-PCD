{
  "metadata": {
    "kernelspec": {
      "language": "python",
      "display_name": "Python 3",
      "name": "python3"
    },
    "language_info": {
      "name": "python",
      "version": "3.7.10",
      "mimetype": "text/x-python",
      "codemirror_mode": {
        "name": "ipython",
        "version": 3
      },
      "pygments_lexer": "ipython3",
      "nbconvert_exporter": "python",
      "file_extension": ".py"
    },
    "colab": {
      "provenance": [],
      "include_colab_link": true
    }
  },
  "nbformat_minor": 0,
  "nbformat": 4,
  "cells": [
    {
      "cell_type": "markdown",
      "metadata": {
        "id": "view-in-github",
        "colab_type": "text"
      },
      "source": [
        "<a href=\"https://colab.research.google.com/github/nsrnkha/UAS-PCD/blob/main/Image_Processing_Shape_Detection.ipynb\" target=\"_parent\"><img src=\"https://colab.research.google.com/assets/colab-badge.svg\" alt=\"Open In Colab\"/></a>"
      ]
    },
    {
      "cell_type": "markdown",
      "source": [
        "# **Import Statements**"
      ],
      "metadata": {
        "id": "WPYO5eaUjV6M"
      }
    },
    {
      "cell_type": "code",
      "source": [
        " \n",
        "# Import statements\n",
        " \n",
        "import tensorflow as tf\n",
        "import pandas as pd\n",
        "import numpy as np\n",
        "import cv2\n",
        "import os\n",
        "import shutil\n",
        "from zipfile import ZipFile\n",
        "import matplotlib.pyplot as plt\n",
        "from tensorflow.keras.applications.inception_v3 import InceptionV3\n",
        "from tensorflow.keras.applications.inception_v3 import preprocess_input\n",
        "from tensorflow.keras.preprocessing.image import ImageDataGenerator\n",
        "from tensorflow.keras.models import Model\n",
        "from tensorflow.keras.layers import Input\n",
        "from tensorflow.keras.layers import Conv2D\n",
        "from tensorflow.keras.layers import BatchNormalization\n",
        "from tensorflow.keras.layers import MaxPooling2D\n",
        "from tensorflow.keras.layers import Flatten\n",
        "from tensorflow.keras.layers import Dropout\n",
        "from tensorflow.keras.layers import Dense\n",
        "from tensorflow.keras.callbacks import EarlyStopping\n",
        "from tensorflow.keras.callbacks import ModelCheckpoint\n",
        "from sklearn.metrics import confusion_matrix\n",
        "from sklearn.metrics import classification_report\n",
        "import seaborn as sns\n"
      ],
      "metadata": {
        "_uuid": "8f2839f25d086af736a60e9eeb907d3b93b6e0e5",
        "_cell_guid": "b1076dfc-b9ad-4769-8c92-a6c4dae69d19",
        "execution": {
          "iopub.status.busy": "2021-07-23T22:12:23.225194Z",
          "iopub.execute_input": "2021-07-23T22:12:23.225719Z",
          "iopub.status.idle": "2021-07-23T22:12:28.506462Z",
          "shell.execute_reply.started": "2021-07-23T22:12:23.225622Z",
          "shell.execute_reply": "2021-07-23T22:12:28.505614Z"
        },
        "trusted": true,
        "id": "AkM5nLhFjV6R"
      },
      "execution_count": null,
      "outputs": []
    },
    {
      "cell_type": "markdown",
      "source": [
        "# **Split dataset into Train, Validation & Test sets**"
      ],
      "metadata": {
        "id": "d5MR2rwnjV6T"
      }
    },
    {
      "cell_type": "code",
      "source": [
        " \n",
        "# Split dataset into Train, Validation & Test sets\n",
        "\n",
        "parent_folder = '../input/basicshapes/shapes/shapes'\n",
        "size = 75   # Resize all images to (size,size)\n",
        "bs = 32      # Batch size\n",
        "\n",
        "\n",
        "# Data augmentation on train dataset only\n",
        "train_data_gen = ImageDataGenerator(width_shift_range = 0.1, height_shift_range = 0.1, zoom_range=0.1, shear_range=0.1, brightness_range=[0.8,1.2], validation_split=0.15, preprocessing_function=preprocess_input)\n",
        "train_data = train_data_gen.flow_from_directory(parent_folder, class_mode='categorical', target_size=(size,size), color_mode='rgb', batch_size=bs, seed=42, subset='training')\n",
        "\n",
        "validation_data_gen = ImageDataGenerator(validation_split=0.15, preprocessing_function=preprocess_input)\n",
        "validation_data = validation_data_gen.flow_from_directory(parent_folder, class_mode='categorical', target_size=(size,size), color_mode='rgb', batch_size=bs, seed=42, subset='validation')\n",
        "\n",
        "test_data_gen = ImageDataGenerator(validation_split=0.10, preprocessing_function=preprocess_input)\n",
        "test_data = test_data_gen.flow_from_directory(parent_folder, class_mode='categorical', target_size=(size,size), color_mode='rgb', subset='validation', shuffle=False)\n"
      ],
      "metadata": {
        "execution": {
          "iopub.status.busy": "2021-07-23T22:12:28.507923Z",
          "iopub.execute_input": "2021-07-23T22:12:28.508280Z",
          "iopub.status.idle": "2021-07-23T22:12:28.937587Z",
          "shell.execute_reply.started": "2021-07-23T22:12:28.508246Z",
          "shell.execute_reply": "2021-07-23T22:12:28.936661Z"
        },
        "trusted": true,
        "id": "yu_Kwat6jV6T",
        "outputId": "2134f093-1e03-43b0-f479-096786dc4f75"
      },
      "execution_count": null,
      "outputs": [
        {
          "name": "stdout",
          "text": "Found 255 images belonging to 3 classes.\nFound 45 images belonging to 3 classes.\nFound 30 images belonging to 3 classes.\n",
          "output_type": "stream"
        }
      ]
    },
    {
      "cell_type": "markdown",
      "source": [
        "# **Assign essential variables**"
      ],
      "metadata": {
        "id": "d3WfThhVjV6V"
      }
    },
    {
      "cell_type": "code",
      "source": [
        "\n",
        "# Assign essential variables\n",
        "\n",
        "shape = train_data.image_shape                \n",
        "print(shape)\n",
        "k = train_data.num_classes                    \n",
        "train_samples = train_data.samples             \n",
        "validation_samples = validation_data.samples  \n"
      ],
      "metadata": {
        "execution": {
          "iopub.status.busy": "2021-07-23T22:12:28.941118Z",
          "iopub.execute_input": "2021-07-23T22:12:28.941393Z",
          "iopub.status.idle": "2021-07-23T22:12:28.949083Z",
          "shell.execute_reply.started": "2021-07-23T22:12:28.941367Z",
          "shell.execute_reply": "2021-07-23T22:12:28.948201Z"
        },
        "trusted": true,
        "id": "9VZV4G_QjV6V",
        "outputId": "b307f0c2-4ef3-490c-e632-92314f44c37d"
      },
      "execution_count": null,
      "outputs": [
        {
          "name": "stdout",
          "text": "(75, 75, 3)\n",
          "output_type": "stream"
        }
      ]
    },
    {
      "cell_type": "markdown",
      "source": [
        "# **Build the model**"
      ],
      "metadata": {
        "id": "M3_TLMnMjV6W"
      }
    },
    {
      "cell_type": "code",
      "source": [
        "# Build the model\n",
        "\n",
        " \n",
        "input = Input(shape=shape)\n",
        " \n",
        "basemodel = InceptionV3(include_top=False, weights='imagenet', input_shape=shape, pooling='avg')  \n",
        "basemodel.trainable = False                                                                       \n",
        " \n",
        "x = basemodel(input)\n",
        "x = Dense(1024, activation='relu')(x)\n",
        "x = Dropout(0.2)(x)\n",
        "output = Dense(k, activation='softmax')(x)\n",
        " \n",
        "model = Model(input,output)\n",
        " "
      ],
      "metadata": {
        "execution": {
          "iopub.status.busy": "2021-07-23T22:12:28.950965Z",
          "iopub.execute_input": "2021-07-23T22:12:28.951250Z",
          "iopub.status.idle": "2021-07-23T22:12:34.345666Z",
          "shell.execute_reply.started": "2021-07-23T22:12:28.951215Z",
          "shell.execute_reply": "2021-07-23T22:12:34.344847Z"
        },
        "trusted": true,
        "id": "5HmlWLafjV6W",
        "outputId": "c2fa0c7a-f007-4a83-cadd-cab36ac8d712"
      },
      "execution_count": null,
      "outputs": [
        {
          "name": "stdout",
          "text": "Downloading data from https://storage.googleapis.com/tensorflow/keras-applications/inception_v3/inception_v3_weights_tf_dim_ordering_tf_kernels_notop.h5\n87916544/87910968 [==============================] - 1s 0us/step\n",
          "output_type": "stream"
        }
      ]
    },
    {
      "cell_type": "markdown",
      "source": [
        "# **Compile the model**"
      ],
      "metadata": {
        "id": "-oBg6mxTjV6X"
      }
    },
    {
      "cell_type": "code",
      "source": [
        "\n",
        "# Compile the model\n",
        "\n",
        "model.compile(optimizer='adam', loss='categorical_crossentropy', metrics=['accuracy'])\n"
      ],
      "metadata": {
        "execution": {
          "iopub.status.busy": "2021-07-23T22:12:34.346971Z",
          "iopub.execute_input": "2021-07-23T22:12:34.347346Z",
          "iopub.status.idle": "2021-07-23T22:12:34.366746Z",
          "shell.execute_reply.started": "2021-07-23T22:12:34.347312Z",
          "shell.execute_reply": "2021-07-23T22:12:34.365722Z"
        },
        "trusted": true,
        "id": "QGUCwUNljV6Y"
      },
      "execution_count": null,
      "outputs": []
    },
    {
      "cell_type": "markdown",
      "source": [
        "# **Initialize callbacks**"
      ],
      "metadata": {
        "id": "YrBEs8-GjV6Y"
      }
    },
    {
      "cell_type": "code",
      "source": [
        " \n",
        "# Initialize callbacks\n",
        " \n",
        "stop = EarlyStopping(monitor='val_loss', patience=4, mode='min', restore_best_weights=True)                                             \n",
        "checkpoint = ModelCheckpoint(filepath='{val_loss:.4f}-weights-{epoch:02d}.hdf5', monitor='val_loss', mode='min', save_best_only=True)   \n"
      ],
      "metadata": {
        "execution": {
          "iopub.status.busy": "2021-07-23T22:12:34.368104Z",
          "iopub.execute_input": "2021-07-23T22:12:34.368624Z",
          "iopub.status.idle": "2021-07-23T22:12:34.374976Z",
          "shell.execute_reply.started": "2021-07-23T22:12:34.368584Z",
          "shell.execute_reply": "2021-07-23T22:12:34.373927Z"
        },
        "trusted": true,
        "id": "waH6ihz-jV6Z"
      },
      "execution_count": null,
      "outputs": []
    },
    {
      "cell_type": "markdown",
      "source": [
        "# **Model Summary**"
      ],
      "metadata": {
        "id": "XTHy77eSjV6Z"
      }
    },
    {
      "cell_type": "code",
      "source": [
        "\n",
        "# Model Summary\n",
        "\n",
        "model.summary()\n"
      ],
      "metadata": {
        "execution": {
          "iopub.status.busy": "2021-07-23T22:12:34.376166Z",
          "iopub.execute_input": "2021-07-23T22:12:34.376557Z",
          "iopub.status.idle": "2021-07-23T22:12:34.404328Z",
          "shell.execute_reply.started": "2021-07-23T22:12:34.376520Z",
          "shell.execute_reply": "2021-07-23T22:12:34.403584Z"
        },
        "trusted": true,
        "id": "cvOwFwWhjV6Z",
        "outputId": "85efd7e3-abc7-45e7-f574-6cc7e0ff7db9"
      },
      "execution_count": null,
      "outputs": [
        {
          "name": "stdout",
          "text": "Model: \"model\"\n_________________________________________________________________\nLayer (type)                 Output Shape              Param #   \n=================================================================\ninput_1 (InputLayer)         [(None, 75, 75, 3)]       0         \n_________________________________________________________________\ninception_v3 (Functional)    (None, 2048)              21802784  \n_________________________________________________________________\ndense (Dense)                (None, 1024)              2098176   \n_________________________________________________________________\ndropout (Dropout)            (None, 1024)              0         \n_________________________________________________________________\ndense_1 (Dense)              (None, 3)                 3075      \n=================================================================\nTotal params: 23,904,035\nTrainable params: 2,101,251\nNon-trainable params: 21,802,784\n_________________________________________________________________\n",
          "output_type": "stream"
        }
      ]
    },
    {
      "cell_type": "markdown",
      "source": [
        "# **Train the model**"
      ],
      "metadata": {
        "id": "2vNafZGmjV6a"
      }
    },
    {
      "cell_type": "code",
      "source": [
        "\n",
        "# Train the model\n",
        "\n",
        "ep = 50                     \n",
        "spe = train_samples/bs       \n",
        "vs = validation_samples/bs  \n",
        " \n",
        "r = model.fit(train_data, validation_data=validation_data, steps_per_epoch=spe, validation_steps=vs, epochs=ep, callbacks=[stop,checkpoint])\n"
      ],
      "metadata": {
        "execution": {
          "iopub.status.busy": "2021-07-23T22:12:34.407049Z",
          "iopub.execute_input": "2021-07-23T22:12:34.407293Z",
          "iopub.status.idle": "2021-07-23T22:12:54.219465Z",
          "shell.execute_reply.started": "2021-07-23T22:12:34.407269Z",
          "shell.execute_reply": "2021-07-23T22:12:54.218462Z"
        },
        "trusted": true,
        "id": "NgHBbEHzjV6a",
        "outputId": "e2110c3d-13c6-433c-c8cc-6a258eca44cc"
      },
      "execution_count": null,
      "outputs": [
        {
          "name": "stdout",
          "text": "Epoch 1/50\n7/7 [==============================] - 15s 616ms/step - loss: 0.5843 - accuracy: 0.7276 - val_loss: 0.0904 - val_accuracy: 0.9556\nEpoch 2/50\n7/7 [==============================] - 1s 107ms/step - loss: 0.0091 - accuracy: 0.9980 - val_loss: 0.3172 - val_accuracy: 0.9556\nEpoch 3/50\n7/7 [==============================] - 1s 108ms/step - loss: 0.0046 - accuracy: 0.9980 - val_loss: 0.2450 - val_accuracy: 0.9556\nEpoch 4/50\n7/7 [==============================] - 1s 112ms/step - loss: 0.0222 - accuracy: 0.9898 - val_loss: 0.1662 - val_accuracy: 0.9556\nEpoch 5/50\n7/7 [==============================] - 1s 113ms/step - loss: 0.0080 - accuracy: 1.0000 - val_loss: 0.2973 - val_accuracy: 0.9556\n",
          "output_type": "stream"
        }
      ]
    },
    {
      "cell_type": "markdown",
      "source": [
        "# **Evaluate the model**"
      ],
      "metadata": {
        "id": "OIEJo9E3jV6a"
      }
    },
    {
      "cell_type": "code",
      "source": [
        " \n",
        "# Evaluate the model\n",
        " \n",
        "model.evaluate(validation_data)\n"
      ],
      "metadata": {
        "execution": {
          "iopub.status.busy": "2021-07-23T22:12:54.222411Z",
          "iopub.execute_input": "2021-07-23T22:12:54.222856Z",
          "iopub.status.idle": "2021-07-23T22:12:54.374602Z",
          "shell.execute_reply.started": "2021-07-23T22:12:54.222810Z",
          "shell.execute_reply": "2021-07-23T22:12:54.373594Z"
        },
        "trusted": true,
        "id": "4juaZmxrjV6a",
        "outputId": "a5612293-fcb6-4a97-c456-c59147eb06af"
      },
      "execution_count": null,
      "outputs": [
        {
          "name": "stdout",
          "text": "2/2 [==============================] - 0s 18ms/step - loss: 0.0904 - accuracy: 0.9556\n",
          "output_type": "stream"
        },
        {
          "execution_count": 9,
          "output_type": "execute_result",
          "data": {
            "text/plain": "[0.09042235463857651, 0.9555555582046509]"
          },
          "metadata": {}
        }
      ]
    },
    {
      "cell_type": "markdown",
      "source": [
        "# **Plot training history**"
      ],
      "metadata": {
        "id": "WxEhYLQYjV6a"
      }
    },
    {
      "cell_type": "code",
      "source": [
        "\n",
        "# Plot training history\n",
        " \n",
        "plt.plot(r.history['loss'], label='loss')\n",
        "plt.plot(r.history['val_loss'], label='val_loss')\n",
        "plt.legend()\n",
        "plt.show()\n",
        "plt.plot(r.history['accuracy'], label='accuracy')\n",
        "plt.plot(r.history['val_accuracy'], label='val_accuracy')\n",
        "plt.legend()\n",
        "plt.show()\n"
      ],
      "metadata": {
        "execution": {
          "iopub.status.busy": "2021-07-23T22:12:54.376237Z",
          "iopub.execute_input": "2021-07-23T22:12:54.376645Z",
          "iopub.status.idle": "2021-07-23T22:12:54.746053Z",
          "shell.execute_reply.started": "2021-07-23T22:12:54.376605Z",
          "shell.execute_reply": "2021-07-23T22:12:54.745177Z"
        },
        "trusted": true,
        "id": "DFkaVxcJjV6b",
        "outputId": "3fceb986-f148-4ca9-ccd7-15881983c5d0"
      },
      "execution_count": null,
      "outputs": [
        {
          "output_type": "display_data",
          "data": {
            "text/plain": "<Figure size 432x288 with 1 Axes>",
            "image/png": "[encoded data removed]"
          },
          "metadata": {
            "needs_background": "light"
          }
        },
        {
          "output_type": "display_data",
          "data": {
            "text/plain": "<Figure size 432x288 with 1 Axes>",
            "image/png": "[encoded data removed]"
          },
          "metadata": {
            "needs_background": "light"
          }
        }
      ]
    },
    {
      "cell_type": "markdown",
      "source": [
        "# **Predictions on the test data**"
      ],
      "metadata": {
        "id": "aa055p-ajV6b"
      }
    },
    {
      "cell_type": "code",
      "source": [
        "\n",
        "# Predictions on the test data\n",
        "\n",
        "pred = model.predict(test_data).argmax(axis=1)\n",
        "labels = list(train_data.class_indices.keys())\n"
      ],
      "metadata": {
        "execution": {
          "iopub.status.busy": "2021-07-23T22:12:54.747396Z",
          "iopub.execute_input": "2021-07-23T22:12:54.747781Z",
          "iopub.status.idle": "2021-07-23T22:12:56.344379Z",
          "shell.execute_reply.started": "2021-07-23T22:12:54.747744Z",
          "shell.execute_reply": "2021-07-23T22:12:56.343288Z"
        },
        "trusted": true,
        "id": "FS4XfX3AjV6b"
      },
      "execution_count": null,
      "outputs": []
    },
    {
      "cell_type": "markdown",
      "source": [
        "# **Get the F1 score on test data prediction**"
      ],
      "metadata": {
        "id": "DH1mdMa0jV6b"
      }
    },
    {
      "cell_type": "code",
      "source": [
        "\n",
        "# Get the F1 score on test data prediction\n",
        "\n",
        "print(classification_report(test_data.classes, pred))\n"
      ],
      "metadata": {
        "execution": {
          "iopub.status.busy": "2021-07-23T22:12:56.345894Z",
          "iopub.execute_input": "2021-07-23T22:12:56.346289Z",
          "iopub.status.idle": "2021-07-23T22:12:56.358632Z",
          "shell.execute_reply.started": "2021-07-23T22:12:56.346253Z",
          "shell.execute_reply": "2021-07-23T22:12:56.357727Z"
        },
        "trusted": true,
        "id": "nTcUK5UzjV6c",
        "outputId": "2a512412-4007-4395-ad46-eaa8b5b64c6d"
      },
      "execution_count": null,
      "outputs": [
        {
          "name": "stdout",
          "text": "              precision    recall  f1-score   support\n\n           0       1.00      1.00      1.00        10\n           1       0.83      1.00      0.91        10\n           2       1.00      0.80      0.89        10\n\n    accuracy                           0.93        30\n   macro avg       0.94      0.93      0.93        30\nweighted avg       0.94      0.93      0.93        30\n\n",
          "output_type": "stream"
        }
      ]
    },
    {
      "cell_type": "markdown",
      "source": [
        "# **Plot confusion matrix**"
      ],
      "metadata": {
        "id": "r00R-MlujV6c"
      }
    },
    {
      "cell_type": "code",
      "source": [
        "\n",
        "# Plot confusion matrix\n",
        "\n",
        "n = (test_data.num_classes)*2\n",
        "\n",
        "cm = confusion_matrix(test_data.classes, pred)\n",
        "plt.figure(figsize=(n,n))\n",
        "sns.heatmap(cm, annot=True, fmt='g', xticklabels=labels, yticklabels=labels)\n",
        "plt.title('Confusion Matrix')\n",
        "plt.show()\n"
      ],
      "metadata": {
        "execution": {
          "iopub.status.busy": "2021-07-23T22:12:56.360165Z",
          "iopub.execute_input": "2021-07-23T22:12:56.360683Z",
          "iopub.status.idle": "2021-07-23T22:12:56.571578Z",
          "shell.execute_reply.started": "2021-07-23T22:12:56.360646Z",
          "shell.execute_reply": "2021-07-23T22:12:56.570797Z"
        },
        "trusted": true,
        "id": "3m26oN9PjV6c",
        "outputId": "31e7a4fc-6c00-4f41-b88a-d915f3e5bdad"
      },
      "execution_count": null,
      "outputs": [
        {
          "output_type": "display_data",
          "data": {
            "text/plain": "<Figure size 432x432 with 2 Axes>",
            "image/png": "[encoded data removed]"
          },
          "metadata": {
            "needs_background": "light"
          }
        }
      ]
    },
    {
      "cell_type": "markdown",
      "source": [
        "# **Visualize random predictions on the test data**"
      ],
      "metadata": {
        "id": "xRDzmYQZjV6c"
      }
    },
    {
      "cell_type": "code",
      "source": [
        "\n",
        "# Visualize random predictions on the test data\n",
        "\n",
        "rand = np.random.randint(low=0, high=test_data.samples, size=5)\n",
        "\n",
        "for n in rand:\n",
        "  true_index = test_data.classes[n]\n",
        "  predicted_index = pred[n]\n",
        "  img = cv2.imread(test_data.filepaths[n])\n",
        "  img = cv2.cvtColor(img, cv2.COLOR_BGR2RGB)\n",
        "  plt.imshow(img)\n",
        "  plt.title('True label={}  Predicted label={}'.format(labels[true_index], labels[predicted_index]))\n",
        "  plt.show()\n"
      ],
      "metadata": {
        "execution": {
          "iopub.status.busy": "2021-07-23T22:12:56.572948Z",
          "iopub.execute_input": "2021-07-23T22:12:56.573328Z",
          "iopub.status.idle": "2021-07-23T22:12:57.246585Z",
          "shell.execute_reply.started": "2021-07-23T22:12:56.573288Z",
          "shell.execute_reply": "2021-07-23T22:12:57.245506Z"
        },
        "trusted": true,
        "id": "cxs6eTkBjV6c",
        "outputId": "0ee74daa-beee-4110-c67d-2e51233dd5dc"
      },
      "execution_count": null,
      "outputs": [
        {
          "output_type": "display_data",
          "data": {
            "text/plain": "<Figure size 432x288 with 1 Axes>",
            "image/png": "[encoded data removed]"
          },
          "metadata": {
            "needs_background": "light"
          }
        },
        {
          "output_type": "display_data",
          "data": {
            "text/plain": "<Figure size 432x288 with 1 Axes>",
            "image/png": "[encoded data removed]"
          },
          "metadata": {
            "needs_background": "light"
          }
        },
        {
          "output_type": "display_data",
          "data": {
            "text/plain": "<Figure size 432x288 with 1 Axes>",
            "image/png": "[encoded data removed]"
          },
          "metadata": {
            "needs_background": "light"
          }
        },
        {
          "output_type": "display_data",
          "data": {
            "text/plain": "<Figure size 432x288 with 1 Axes>",
            "image/png": "[encoded data removed]"
          },
          "metadata": {
            "needs_background": "light"
          }
        },
        {
          "output_type": "display_data",
          "data": {
            "text/plain": "<Figure size 432x288 with 1 Axes>",
            "image/png": "[encoded data removed]"
          },
          "metadata": {
            "needs_background": "light"
          }
        }
      ]
    }
  ]
}